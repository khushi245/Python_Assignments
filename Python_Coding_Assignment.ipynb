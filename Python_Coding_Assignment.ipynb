{
 "cells": [
  {
   "cell_type": "markdown",
   "metadata": {
    "colab_type": "text",
    "id": "l0ZzOlyxB-kf"
   },
   "source": [
    "<h1>Python: without numpy or sklearn </h1>"
   ]
  },
  {
   "cell_type": "markdown",
   "metadata": {
    "colab_type": "text",
    "id": "C0xO8JV9B-ki"
   },
   "source": [
    "<h3> Q1: Given two matrices please print the product of those two matrices </h3>\n",
    "<pre>\n",
    "\n",
    "Ex 1: A   = [[1 3 4]\n",
    "             [2 5 7]\n",
    "             [5 9 6]]\n",
    "      B   = [[1 0 0]\n",
    "             [0 1 0]\n",
    "             [0 0 1]]\n",
    "      A*B = [[1 3 4]\n",
    "             [2 5 7]\n",
    "             [5 9 6]]\n",
    "\n",
    "     \n",
    "Ex 2: A   = [[1 2]\n",
    "             [3 4]]\n",
    "      B   = [[1 2 3 4 5]\n",
    "             [5 6 7 8 9]]\n",
    "      A*B = [[11 14 17 20 23]\n",
    "             [23 30 36 42 51]]\n",
    "             \n",
    "Ex 3: A   = [[1 2]\n",
    "             [3 4]]\n",
    "      B   = [[1 4]\n",
    "             [5 6]\n",
    "             [7 8]\n",
    "             [9 6]]\n",
    "      A*B =Not possible\n",
    "</pre>"
   ]
  },
  {
   "cell_type": "code",
   "execution_count": 1,
   "metadata": {},
   "outputs": [
    {
     "name": "stdout",
     "output_type": "stream",
     "text": [
      " enter the first row 2\n",
      " enter the first column 2\n",
      " enter the second row 2\n",
      " enter the second column 5\n",
      "\n",
      " enter the elements of matrix 1 \n",
      "1\n",
      "2\n",
      "3\n",
      "4\n",
      " enter the lements of second matrix 2 \n",
      "1\n",
      "2\n",
      "3\n",
      "4\n",
      "5\n",
      "5\n",
      "6\n",
      "7\n",
      "8\n",
      "9\n",
      " the first matrix is \n",
      "1 2 \n",
      "3 4 \n",
      " the second matrix is \n",
      "1 2 3 4 5 \n",
      "5 6 7 8 9 \n",
      " the result is\n",
      "11 14 17 20 23 \n",
      "23 30 37 44 51 \n"
     ]
    }
   ],
   "source": [
    "\n",
    "r1=int(input(\" enter the first row \"))\n",
    "c1=int(input(\" enter the first column \"))\n",
    "r2=int(input(\" enter the second row \"))\n",
    "c2=int(input(\" enter the second column \"))\n",
    "print()\n",
    "print(\" enter the elements of matrix 1 \") # for input of elements of matrix 1\n",
    "a=[[int(input())for i in range(c1)] for j in range(r1)]\n",
    "print(\" enter the lements of second matrix 2 \")\n",
    "b=[[int(input())for i in range(c2)] for j in range(r2)] # for input of elements of matrix 2\n",
    "print(\" the first matrix is \") #printing the first matrix\n",
    "for i in range(r1):\n",
    "    for j in range(c1):\n",
    "        print(a[i][j],end=' ')\n",
    "    print()\n",
    "print(\" the second matrix is \") #printing the second matrix\n",
    "for i in range(r2):\n",
    "    for j in range(c2):\n",
    "        print(b[i][j],end=' ')\n",
    "    print()\n",
    "def matrix_mul(a,b,r1,c1,r2,c2):\n",
    "    ab=[[0 for i in range(c2)]for j in range(r1)]\n",
    "    if r2==c1:# to check whether the matrix are compatible or not\n",
    "        for i in range(r1):       #multiplying matrices 1 and 2\n",
    "            for j in range(c2):\n",
    "                for k in range(c1):\n",
    "                    ab[i][j]+=a[i][k]*b[k][j]\n",
    "        print(\" the result is\")  # printing the resultant matrix\n",
    "        for i in range(r1):\n",
    "            for j in range(c2):\n",
    "                print(ab[i][j],end=' ')\n",
    "            print()\n",
    "\n",
    "\n",
    "    else:                        #for the matrices which arenot compatible\n",
    "        print(\"not possible\")\n",
    "\n",
    "matrix_mul(a,b,r1,c1,r2,c2)\n",
    "    \n",
    "    \n",
    "\n",
    "\n",
    "\n",
    "\n"
   ]
  },
  {
   "cell_type": "markdown",
   "metadata": {
    "colab_type": "text",
    "id": "at4VwLggB-kn"
   },
   "source": [
    "<h3> Q2: Select a number randomly with probability proportional to its magnitude from the given array of n elements</h3>\n",
    "\n",
    "consider an experiment, selecting an element from the list A randomly with probability proportional to its magnitude.\n",
    "assume we are doing the same experiment for 100 times with replacement, in each experiment you will print a number that is selected randomly from A.\n",
    "\n",
    "<pre>\n",
    "Ex 1: A = [0 5 27 6 13 28 100 45 10 79]\n",
    "let f(x) denote the number of times x getting selected in 100 experiments.\n",
    "f(100) > f(79) > f(45) > f(28) > f(27) > f(13) > f(10) > f(6) > f(5) > f(0)\n",
    "</pre>"
   ]
  },
  {
   "cell_type": "code",
   "execution_count": 18,
   "metadata": {},
   "outputs": [
    {
     "name": "stdout",
     "output_type": "stream",
     "text": [
      "[79, 79, 79, 28, 100, 28, 100, 79, 100, 10, 27, 100, 27, 5, 79, 79, 45, 100, 13, 100, 100, 100, 45, 45, 79, 45, 27, 100, 100, 100, 45, 100, 100, 45, 79, 79, 100, 100, 79, 79, 79, 45, 100, 45, 10, 6, 13, 79, 79, 27, 79, 79, 79, 100, 79, 100, 28, 79, 45, 100, 79, 28, 45, 28, 100, 100, 100, 45, 79, 79, 100, 100, 45, 79, 100, 45, 45, 27, 79, 27, 79, 100, 79, 28, 28, 28, 10, 79, 79, 45, 79, 79, 79, 45, 10, 27, 100, 79, 100, 100]\n"
     ]
    }
   ],
   "source": [
    "import random\n",
    "from random import uniform\n",
    "a=[0, 5, 27, 6, 13, 28, 100, 45, 10, 79]\n",
    "def pick_random_no(a): #functiomn to pick the random number\n",
    "    sum=0\n",
    "    for i in a:\n",
    "        sum+=i\n",
    "    b=[i/sum for i in a ] \n",
    "    cf=[]\n",
    "    c=b[0]\n",
    "    cf.append(b[0])\n",
    "    n=0\n",
    "    for i in range(len(a)-1):\n",
    "        c+=b[i+1]\n",
    "        cf.append(c)\n",
    "    r=random.uniform(0,1)\n",
    "    for i in range(len(a)):\n",
    "        if(r<=cf[i]):\n",
    "            n=a[i]\n",
    "            break\n",
    "    return n\n",
    "def trial(n): #function to conduct the experiment 100 times\n",
    "    l=[]\n",
    "    for i in range(1,n+1):\n",
    "        p=pick_random_no(a)\n",
    "        l.append(p)\n",
    "    print(l)\n",
    "trial(100)\n",
    "\n",
    "\n",
    "        \n",
    "        \n",
    "        \n",
    "    \n",
    "    \n",
    "\n",
    "    \n",
    "\n",
    "\n",
    "\n",
    "\n",
    "\n"
   ]
  },
  {
   "cell_type": "markdown",
   "metadata": {
    "colab_type": "text",
    "id": "D1xQy2WWB-kq"
   },
   "source": [
    "<h3> Q3: Replace the digits in the string with #</h3>\n",
    "\n",
    "consider a string that will have digits in that, we need to remove all the not digits and replace the digits with #\n",
    "<pre>\n",
    "Ex 1: A = 234                Output: ###\n",
    "Ex 2: A = a2b3c4             Output: ###\n",
    "Ex 3: A = abc                Output:   (empty string)\n",
    "Ex 5: A = #2a$#b%c%561#      Output: ####\n",
    "</pre>"
   ]
  },
  {
   "cell_type": "code",
   "execution_count": 5,
   "metadata": {},
   "outputs": [
    {
     "name": "stdout",
     "output_type": "stream",
     "text": [
      " enter the string here a2b3c4\n",
      "###"
     ]
    }
   ],
   "source": [
    "def replace_digits(string):\n",
    "    for ele in string:\n",
    "        if (ele.isdigit()): # for checking the digits in the string\n",
    "            print(\"#\",end='')\n",
    "string=input(\" enter the string here \")\n",
    "replace_digits(string)\n",
    "        "
   ]
  },
  {
   "cell_type": "markdown",
   "metadata": {
    "colab_type": "text",
    "id": "j7h0Ywg7B-kw"
   },
   "source": [
    "<h3> Q4: Students marks dashboard</h3>\n",
    "\n",
    "consider the marks list of class students given two lists <br>\n",
    "Students = ['student1','student2','student3','student4','student5','student6','student7','student8','student9','student10'] <br>\n",
    "Marks = [45, 78, 12, 14, 48, 43, 45, 98, 35, 80] <br>\n",
    "from the above two lists the Student[0] got Marks[0],  Student[1] got Marks[1] and so on <br><br>\n",
    "your task is to print the name of students\n",
    "<strong>a. Who got top 5 ranks, in the descending order of marks</strong> <br>\n",
    "<strong>b. Who got least 5 ranks, in the increasing order of marks</strong><br>\n",
    "<strong>d. Who got marks between  &gt;25th percentile &lt;75th percentile, in the increasing order of marks</strong>\n",
    "\n",
    "<pre>\n",
    "Ex 1: \n",
    "Students=['student1','student2','student3','student4','student5','student6','student7','student8','student9','student10'] \n",
    "Marks = [45, 78, 12, 14, 48, 43, 47, 98, 35, 80]\n",
    "a. \n",
    "student8  98\n",
    "student10 80\n",
    "student2  78\n",
    "student5  48\n",
    "student7  47\n",
    "b.\n",
    "student3 12\n",
    "student4 14\n",
    "student9 35\n",
    "student6 43\n",
    "student1 45\n",
    "c.\n",
    "student9 35\n",
    "student6 43\n",
    "student1 45\n",
    "student7 47\n",
    "student5 48\n",
    "</pre>"
   ]
  },
  {
   "cell_type": "code",
   "execution_count": 29,
   "metadata": {},
   "outputs": [
    {
     "name": "stdout",
     "output_type": "stream",
     "text": [
      " the top five ranks with decreasing marks  \n",
      "student8 98\n",
      "student10 80\n",
      "student2 78\n",
      "student5 48\n",
      "student7 47\n",
      "\n",
      "\n",
      " last five ranks in increasing order are\n",
      "student3 12\n",
      "student4 14\n",
      "student9 35\n",
      "student6 43\n",
      "student1 45\n",
      "\n",
      "\n",
      " the order is between 25 percentile to 75 percentile \n",
      "student6 43\n",
      "student1 45\n",
      "student7 47\n",
      "student5 48\n",
      "student2 78\n",
      "\n",
      "\n",
      " the percentage output according to the question is \n",
      "student9 35\n",
      "student6 43\n",
      "student1 45\n",
      "student7 47\n",
      "student5 48\n"
     ]
    }
   ],
   "source": [
    "Students=['student1','student2','student3','student4','student5','student6','student7','student8','student9','student10'] \n",
    "Marks = [45, 78, 12, 14, 48, 43, 47, 98, 35, 80]\n",
    "d=dict(zip(Students,Marks))\n",
    "d=sorted(d.items(),key=lambda x:x[1],reverse=True) \n",
    "print(\" the top five ranks with decreasing marks  \")\n",
    "for i in range(5): \n",
    "    print(d[i][0],end=' ')\n",
    "    print(d[i][1])\n",
    "print(\"\\n\")\n",
    "print(\" last five ranks in increasing order are\")\n",
    "for i in range(9,4,-1):\n",
    "    print(d[i][0],end=' ')\n",
    "    print(d[i][1])\n",
    "print(\"\\n\")\n",
    "print(\" the order is between 25 percentile to 75 percentile \")\n",
    "for i in range(6,1,-1):# the question should be not percentile but percentage\n",
    "    print(d[i][0],end=' ')\n",
    "    print(d[i][1])\n",
    "# the percentage ouput is:\n",
    "print('\\n')\n",
    "print(\" the percentage output according to the question is \")\n",
    "for i in d[::-1]:\n",
    "    if(i[1]>25) and(i[1]<75):\n",
    "        print(i[0],end=' ')\n",
    "        print(i[1])\n",
    "    \n",
    "\n",
    "    \n",
    "    "
   ]
  },
  {
   "cell_type": "markdown",
   "metadata": {
    "colab_type": "text",
    "id": "qha0OhQHB-k1"
   },
   "source": [
    "<h3> Q5: Find the closest points</h3>\n",
    "\n",
    "consider you have given n data points in the form of list of tuples like S=[(x1,y1),(x2,y2),(x3,y3),(x4,y4),(x5,y5),..,(xn,yn)] and a point P=(p,q) <br> your task is to find 5 closest points(based on cosine distance) in S from P\n",
    "<br>cosine distance between two points (x,y) and (p,q) is defind as $cos^{-1}(\\frac{(x\\cdot p+y\\cdot q)}{\\sqrt(x^2+y^2)\\cdot\\sqrt(p^2+q^2)})$\n",
    "<pre>\n",
    "Ex:\n",
    "\n",
    "S= [(1,2),(3,4),(-1,1),(6,-7),(0, 6),(-5,-8),(-1,-1)(6,0),(1,-1)]\n",
    "P= (3,-4)\n",
    "<img src='https://i.imgur.com/vIFPOcG.jpg', width=300>\n",
    "Output:\n",
    "(6,-7)\n",
    "(1,-1)\n",
    "(6,0)\n",
    "(-5,-8)\n",
    "(-1,-1)\n",
    "</pre>"
   ]
  },
  {
   "cell_type": "code",
   "execution_count": 22,
   "metadata": {},
   "outputs": [
    {
     "name": "stdout",
     "output_type": "stream",
     "text": [
      " enter the values of s [(1,2),(3,4),(-1,1),(6,-7),(0, 6),(-5,-8),(-1,-1),(6,0),(1,-1)]\n",
      " enter the values of p (3,-4)\n"
     ]
    },
    {
     "data": {
      "text/plain": [
       "[(6, -7), (1, -1), (6, 0), (-5, -8), (-1, -1)]"
      ]
     },
     "execution_count": 22,
     "metadata": {},
     "output_type": "execute_result"
    }
   ],
   "source": [
    "# function created to find the five closest points from the list S from P(3,-4)\n",
    "import math\n",
    "import ast\n",
    "def closest_points_to_p(s,p):\n",
    "    b=[]\n",
    "    for i in range(len(s)): # to compute the cosine distance\n",
    "        d = math.acos(((s[i][0]*p[0])+(s[i][1]*p[1]))/((math.sqrt((s[i][0]**2)+(s[i][1]**2))) *(math.sqrt((p[0]**2)+(p[1]**2)))))\n",
    "        b.append(d)\n",
    "    \n",
    "    d=dict(zip(s,b))\n",
    "    d=sorted(d.items(),key=lambda x:x[1])\n",
    "    d=d[:5]\n",
    "    d=[d[i][0]for i in range(len(d))]\n",
    "    return d\n",
    "    \n",
    "    \n",
    "s=ast.literal_eval(input(\" enter the values of s \"))\n",
    "p=ast.literal_eval(input(\" enter the values of p \"))\n",
    "closest_points_to_p(s,p)\n",
    "        \n",
    "        \n",
    "        "
   ]
  },
  {
   "cell_type": "markdown",
   "metadata": {
    "colab_type": "text",
    "id": "-g11jeAiB-k5"
   },
   "source": [
    "<h3> Q6: Find Which line separates oranges and apples</h3>\n",
    "consider you have given two set of data points in the form of list of tuples like \n",
    "<pre>\n",
    "Red =[(R11,R12),(R21,R22),(R31,R32),(R41,R42),(R51,R52),..,(Rn1,Rn2)]\n",
    "Blue=[(B11,B12),(B21,B22),(B31,B32),(B41,B42),(B51,B52),..,(Bm1,Bm2)]\n",
    "</pre>\n",
    "and set of line equations(in the string formate, i.e list of strings)\n",
    "<pre>\n",
    "Lines = [a1x+b1y+c1,a2x+b2y+c2,a3x+b3y+c3,a4x+b4y+c4,..,K lines]\n",
    "Note: you need to string parsing here and get the coefficients of x,y and intercept\n",
    "</pre>\n",
    "your task is to for each line that is given print \"YES\"/\"NO\", you will print yes, if all the red points are one side of the line and blue points are other side of the line, otherwise no\n",
    "<pre>\n",
    "Ex:\n",
    "Red= [(1,1),(2,1),(4,2),(2,4), (-1,4)]\n",
    "Blue= [(-2,-1),(-1,-2),(-3,-2),(-3,-1),(1,-3)]\n",
    "Lines=[\"1x+1y+0\",\"1x-1y+0\",\"1x+0y-3\",\"0x+1y-0.5\"]\n",
    "<img src='https://i.imgur.com/DoQf7mE.jpg' width=400>\n",
    "Output:\n",
    "YES\n",
    "NO\n",
    "NO\n",
    "YES\n",
    "</pre>"
   ]
  },
  {
   "cell_type": "code",
   "execution_count": 2,
   "metadata": {},
   "outputs": [
    {
     "name": "stdout",
     "output_type": "stream",
     "text": [
      "[(1,1),(2,1),(4,2),(2,4), (-1,4)]\n",
      "[(-2,-1),(-1,-2),(-3,-2),(-3,-1),(1,-3)]\n",
      "[\"1x+1y+0\",\"1x-1y+0\",\"1x+0y-3\",\"0x+1y-0.5\"]\n",
      "Yes\n",
      "No\n",
      "No\n",
      "Yes\n"
     ]
    }
   ],
   "source": [
    "import math\n",
    "import re\n",
    "import ast\n",
    "def i_am_the_one(Red,Blue,Lines):\n",
    "    rr=[]\n",
    "    bb=[]\n",
    "    for line in Lines:\n",
    "        R=[]\n",
    "        B=[]\n",
    "        a, b, c = [float(x) for x in re.split('x|y', line)] #to get the coeffiecients of x,y,c\n",
    "        for i in Red:\n",
    "            r=a*i[0]+b*i[1]+c     # to make a list of the values of the given points\n",
    "            R.append(r)\n",
    "        rr.append(R)\n",
    "        for i in Blue:\n",
    "            d=a*i[0]+b*i[1]+c\n",
    "            B.append(d)\n",
    "        bb.append(B)\n",
    "\n",
    "    for j in range(len(rr)): # to check whether the values are positive or negative\n",
    "        r=[1 if i>0 else 0 for i in rr[j]]\n",
    "        b=[1 if i>0 else 0 for i in bb[j]]\n",
    "        if len(set(r))==1 and len(set(b))==1: # to compare the values for opposite signs\n",
    "            if set(r)!=set(b):\n",
    "                print(\"Yes\")\n",
    "            else:\n",
    "                print(\"No\")\n",
    "        else:\n",
    "            print(\"No\")\n",
    "red=ast.literal_eval(input())   # to input the values in red,blue and lines\n",
    "blue=ast.literal_eval(input())\n",
    "lines=ast.literal_eval(input())\n",
    "i_am_the_one(red,blue,lines)  "
   ]
  },
  {
   "cell_type": "markdown",
   "metadata": {
    "colab_type": "text",
    "id": "9OBpURbNB-k9"
   },
   "source": [
    "<h3> Q7: Filling the missing values in the specified formate</h3>\n",
    "You will be given a string with digits and '\\_'(missing value) symbols you have to replace the '\\_' symbols as explained \n",
    "<pre>\n",
    "Ex 1: _, _, _, 24 ==> 24/4, 24/4, 24/4, 24/4 i.e we. have distributed the 24 equally to all 4 places <br>\n",
    "Ex 2: 40, _, _, _, 60 ==> (60+40)/5,(60+40)/5,(60+40)/5,(60+40)/5,(60+40)/5 ==> 20, 20, 20, 20, 20 i.e. the sum of (60+40) is distributed qually to all 5 places<br>\n",
    "Ex 3: 80, _, _, _, _  ==> 80/5,80/5,80/5,80/5,80/5 ==> 16, 16, 16, 16, 16 i.e. the 80 is distributed qually to all 5 missing values that are right to it<br>\n",
    "Ex 4: _, _, 30, _, _, _, 50, _, _  \n",
    "==> we will fill the missing values from left to right \n",
    "    a. first we will distribute the 30 to left two missing values (10, 10, 10, _, _, _, 50, _, _)\n",
    "    b. now distribute the sum (10+50) missing values in between (10, 10, 12, 12, 12, 12, 12, _, _) \n",
    "    c. now we will distribute 12 to right side missing values (10, 10, 12, 12, 12, 12, 4, 4, 4)\n",
    "</pre>\n",
    "for a given string with comma seprate values, which will have both missing values numbers like ex: \"_, _, x, _, _, _\"\n",
    "you need fill the missing values\n",
    "\n",
    "Q: your program reads a string like ex: \"_, _, x, _, _, _\" and returns the filled sequence\n",
    "\n",
    "Ex: \n",
    "<pre>\n",
    "Input1: \"_,_,_,24\"\n",
    "Output1: 6,6,6,6\n",
    "\n",
    "Input2: \"40,_,_,_,60\"\n",
    "Output2: 20,20,20,20,20\n",
    "\n",
    "Input3: \"80,_,_,_,_\"\n",
    "Output3: 16,16,16,16,16\n",
    "\n",
    "Input4: \"_,_,30,_,_,_,50,_,_\"\n",
    "Output4: 10,10,12,12,12,12,4,4,4\n",
    "</pre>\n",
    "\n"
   ]
  },
  {
   "cell_type": "code",
   "execution_count": 1,
   "metadata": {},
   "outputs": [
    {
     "name": "stdout",
     "output_type": "stream",
     "text": [
      "['6.0', '6.0', '6.0', '6.0']\n",
      "[20.0, 20.0, 20.0, 20.0, 20.0]\n",
      "[16.0, 16.0, 16.0, 16.0, 16.0]\n",
      "['10.0', '10.0', 12.0, 12.0, 12.0, 12.0, 4.0, 4.0, 4.0]\n"
     ]
    }
   ],
   "source": [
    "def curve_smoothin(s):\n",
    "    s=s.split(\",\")\n",
    "    c=0\n",
    "    m=0\n",
    "    #First Elements\n",
    "    if s[-1]==\"_\" and s[0].isdigit():\n",
    "        v=float(s[0])//len(s)\n",
    "        for i in range(len(s)):\n",
    "            s[i]=v\n",
    "        return s\n",
    "    else:\n",
    "    \n",
    "        for i in range(len(s)):\n",
    "            if s[i]==\"_\":\n",
    "                c+=1\n",
    "            else:\n",
    "                for j in range(0,i+1):\n",
    "                    s[j]=str(float(s[i])/(c+1))\n",
    "                m=i\n",
    "                mv=float(s[i])\n",
    "                break\n",
    "        if len(s)-1==m:\n",
    "            return s\n",
    "        else:\n",
    "        #Middle elements\n",
    "            k=0\n",
    "            a=1\n",
    "            for i in range(m+1,len(s)):\n",
    "                if s[i].isdigit():\n",
    "                    a=i+1-m\n",
    "                    k=i\n",
    "                    break\n",
    "            v=(mv+float(s[k]))//a\n",
    "            for i in range(m,k+1):\n",
    "                s[i]=v\n",
    "            #Last Elements\n",
    "            c=0\n",
    "            for i in range(k+1,len(s)):\n",
    "                if s[i]==\"_\":\n",
    "                    c+=1\n",
    "            lv=v//(c+1)\n",
    "            for i in range(k,len(s)):\n",
    "                s[i]=lv\n",
    "            return s\n",
    "strings = [\"_,_,_,24\",\"40,_,_,_,60\",\"80,_,_,_,_\",\"_,_,30,_,_,_,50,_,_\"]\n",
    "\n",
    "for s in strings:\n",
    "    print (curve_smoothin(s))\n",
    "\n",
    "        \n"
   ]
  },
  {
   "cell_type": "markdown",
   "metadata": {
    "colab_type": "text",
    "id": "RBz4pzlfB-lB"
   },
   "source": [
    "<h3> Q8: Filling the missing values in the specified formate</h3>\n",
    "You will be given a list of lists, each sublist will be of length 2 i.e. [[x,y],[p,q],[l,m]..[r,s]]\n",
    "consider its like a martrix of n rows and two columns\n",
    "1. the first column F will contain only 5 uniques values (F1, F2, F3, F4, F5)\n",
    "2. the second column S will contain only 3 uniques values (S1, S2, S3)\n",
    "<pre>\n",
    "your task is to find\n",
    "a. Probability of P(F=F1|S==S1), P(F=F1|S==S2), P(F=F1|S==S3)\n",
    "b. Probability of P(F=F2|S==S1), P(F=F2|S==S2), P(F=F2|S==S3)\n",
    "c. Probability of P(F=F3|S==S1), P(F=F3|S==S2), P(F=F3|S==S3)\n",
    "d. Probability of P(F=F4|S==S1), P(F=F4|S==S2), P(F=F4|S==S3)\n",
    "e. Probability of P(F=F5|S==S1), P(F=F5|S==S2), P(F=F5|S==S3)\n",
    "</pre>\n",
    "Ex:\n",
    "\n",
    "<pre>\n",
    "[[F1,S1],[F2,S2],[F3,S3],[F1,S2],[F2,S3],[F3,S2],[F2,S1],[F4,S1],[F4,S3],[F5,S1]]\n",
    "\n",
    "a. P(F=F1|S==S1)=1/4, P(F=F1|S==S2)=1/3, P(F=F1|S==S3)=0/3\n",
    "b. P(F=F2|S==S1)=1/4, P(F=F2|S==S2)=1/3, P(F=F2|S==S3)=1/3\n",
    "c. P(F=F3|S==S1)=0/4, P(F=F3|S==S2)=1/3, P(F=F3|S==S3)=1/3\n",
    "d. P(F=F4|S==S1)=1/4, P(F=F4|S==S2)=0/3, P(F=F4|S==S3)=1/3\n",
    "e. P(F=F5|S==S1)=1/4, P(F=F5|S==S2)=0/3, P(F=F5|S==S3)=0/3\n",
    "</pre>\n",
    "\n",
    "\n"
   ]
  },
  {
   "cell_type": "code",
   "execution_count": 8,
   "metadata": {},
   "outputs": [
    {
     "name": "stdout",
     "output_type": "stream",
     "text": [
      "[['F1','S1'],['F2','S2'],['F3','S3'],['F1','S2'],['F2','S3'],['F3','S2'],['F2','S1'],['F4','S1'],['F4','S3'],['F5','S1']]\n",
      "P(F=F1|S==S1)=1/4\n",
      "P(F=F2|S==S1)=1/4\n",
      "P(F=F3|S==S1)=0/4\n",
      "P(F=F4|S==S1)=1/4\n",
      "P(F=F5|S==S1)=1/4\n",
      "\n",
      "P(F=F1|S==S2)=1/3\n",
      "P(F=F2|S==S2)=1/3\n",
      "P(F=F3|S==S2)=1/3\n",
      "P(F=F4|S==S2)=0/3\n",
      "P(F=F5|S==S2)=0/3\n",
      "\n",
      "P(F=F1|S==S3)=0/3\n",
      "P(F=F2|S==S3)=1/3\n",
      "P(F=F3|S==S3)=1/3\n",
      "P(F=F4|S==S3)=1/3\n",
      "P(F=F5|S==S3)=0/3\n"
     ]
    }
   ],
   "source": [
    "import ast\n",
    "def compute_conditional_probabilities(A):\n",
    "    F=[A[i][0] for i in range(len(A))]\n",
    "    S=[A[i][1] for i in range(len(A))]\n",
    "    a=[\"{}{}\".format(A[i][0],A[i][1]) for i in range(len(A))]\n",
    "    ds={}\n",
    "    for i in S:\n",
    "        if i not in ds:\n",
    "            ds[i]=1\n",
    "        else:\n",
    "            ds[i]+=1\n",
    "    for i in a:\n",
    "        if i[2:]==\"S1\":\n",
    "            for j in range(1,6):\n",
    "                c=0\n",
    "                if (\"F\"+str(j)+\"S1\") in a:\n",
    "                    c+=1\n",
    "                print(\"P(F=F{}|S==S1)={}/{}\".format(str(j),c,ds[\"S1\"]))\n",
    "            break\n",
    "\n",
    "    print()\n",
    "    for i in a:\n",
    "        if i[2:]==\"S2\":\n",
    "            for j in range(1,6):\n",
    "                c=0\n",
    "                if (\"F\"+str(j)+\"S2\") in a:\n",
    "                    c+=1\n",
    "                print(\"P(F=F{}|S==S2)={}/{}\".format(str(j),c,ds[\"S2\"]))\n",
    "            break\n",
    "\n",
    "    print()\n",
    "    for i in a:\n",
    "        if i[2:]==\"S3\":\n",
    "            for j in range(1,6):\n",
    "                c=0\n",
    "                if (\"F\"+str(j)+\"S3\") in a:\n",
    "                    c+=1\n",
    "                print(\"P(F=F{}|S==S3)={}/{}\".format(str(j),c,ds[\"S3\"]))\n",
    "            break\n",
    "A=ast.literal_eval(input())\n",
    "compute_conditional_probabilities(A)"
   ]
  },
  {
   "cell_type": "markdown",
   "metadata": {
    "colab_type": "text",
    "id": "n4HS87QmB-lF"
   },
   "source": [
    "<h3> Q9: Given two sentences S1, S2</h3>\n",
    "You will be given two sentances S1, S2 your task is to find \n",
    "<pre>\n",
    "a. Number of common words between S1, S2\n",
    "b. Words in S1 but not in S2\n",
    "c. Words in S2 but not in S1\n",
    "</pre>\n",
    "\n",
    "Ex: \n",
    "<pre>\n",
    "S1= \"the first column F will contain only 5 uniques values\"\n",
    "S2= \"the second column S will contain only 3 uniques values\"\n",
    "Output:\n",
    "a. 7\n",
    "b. ['first','F','5']\n",
    "c. ['second','S','3']\n",
    "</pre>"
   ]
  },
  {
   "cell_type": "code",
   "execution_count": 4,
   "metadata": {},
   "outputs": [
    {
     "name": "stdout",
     "output_type": "stream",
     "text": [
      " enter the first sentence  the first column F will contain only 5 uniques values\n",
      " enter the second sentence  the second column S will contain only 3 uniques values\n",
      "7\n",
      "['first', 'F', '5']\n",
      "['second', 'S', '3']\n"
     ]
    }
   ],
   "source": [
    "def  string_features(s1,s2):\n",
    "    a=0\n",
    "    s1=s1.split()\n",
    "    s2=s2.split()\n",
    "    for i in s1: # to check the common words in setences s1 and s2\n",
    "        for j in s2:\n",
    "            if i==j:\n",
    "                a=a+1\n",
    "    print(a)\n",
    "    b=[]\n",
    "    c=[]\n",
    "    for i in s1: # to check the elements in the sentence s1 and not in s2\n",
    "        if i not in s2:\n",
    "            b.append(i)\n",
    "    for j in s2: # to check the sentences in the sentence s2 and not in s1\n",
    "        if j not in s1:\n",
    "            c.append(j)\n",
    "    print(b)\n",
    "    print(c)\n",
    "    \n",
    "s1=input(\" enter the first sentence  \")\n",
    "s2=input(\" enter the second sentence  \")\n",
    "string_features(s1,s2)\n",
    "\n",
    "    "
   ]
  },
  {
   "cell_type": "markdown",
   "metadata": {
    "colab_type": "text",
    "id": "XefXVEjCB-lI"
   },
   "source": [
    "<h3> Q10: Given two sentances S1, S2</h3>\n",
    "You will be given a list of lists, each sublist will be of length 2 i.e. [[x,y],[p,q],[l,m]..[r,s]]\n",
    "consider its like a martrix of n rows and two columns\n",
    "\n",
    "a. the first column Y will contain interger values <br>\n",
    "b. the second column $Y_{score}$ will be having float values <br>\n",
    "Your task is to find the value of $f(Y,Y_{score}) = -1*\\frac{1}{n}\\Sigma_{for each Y,Y_{score} pair}(Ylog10(Y_{score})+(1-Y)log10(1-Y_{score}))$ here n is the number of rows in the matrix\n",
    "<pre>\n",
    "Ex:\n",
    "[[1, 0.4], [0, 0.5], [0, 0.9], [0, 0.3], [0, 0.6], [1, 0.1], [1, 0.9], [1, 0.8]]\n",
    "output:\n",
    "0.4243099\n",
    "</pre>\n",
    "$\\frac{-1}{8}\\cdot((1\\cdot log_{10}(0.4)+0\\cdot log_{10}(0.6))+(0\\cdot log_{10}(0.5)+1\\cdot log_{10}(0.5)) + ... + (1\\cdot log_{10}(0.8)+0\\cdot log_{10}(0.2)) )$"
   ]
  },
  {
   "cell_type": "code",
   "execution_count": 8,
   "metadata": {},
   "outputs": [
    {
     "name": "stdout",
     "output_type": "stream",
     "text": [
      " enter the values of a  [[1, 0.4], [0, 0.5], [0, 0.9], [0, 0.3], [0, 0.6], [1, 0.1], [1, 0.9], [1, 0.8]]\n",
      "0.42430993457031635\n"
     ]
    }
   ],
   "source": [
    "import math\n",
    "import ast\n",
    "def compute_log_loss(a):\n",
    "    sum=0\n",
    "    for i in range(8):\n",
    "        \n",
    "            sum+=a[i][0]*math.log10(a[i][1])+(1-a[i][0])*math.log10(1-a[i][1]) # for the sum of the logarithimaic series\n",
    "    sum=-sum/len(a)\n",
    "    return sum\n",
    "a=ast.literal_eval(input(\" enter the values of a  \"))\n",
    "print(compute_log_loss(a))\n",
    "        \n",
    "    \n",
    "    \n",
    "                "
   ]
  }
 ],
 "metadata": {
  "colab": {
   "collapsed_sections": [],
   "name": "1.Python Assignment.ipynb",
   "provenance": []
  },
  "kernelspec": {
   "display_name": "Python 3",
   "language": "python",
   "name": "python3"
  },
  "language_info": {
   "codemirror_mode": {
    "name": "ipython",
    "version": 3
   },
   "file_extension": ".py",
   "mimetype": "text/x-python",
   "name": "python",
   "nbconvert_exporter": "python",
   "pygments_lexer": "ipython3",
   "version": "3.8.3"
  }
 },
 "nbformat": 4,
 "nbformat_minor": 1
}
