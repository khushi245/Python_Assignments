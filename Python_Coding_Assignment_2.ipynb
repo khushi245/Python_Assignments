{
 "cells": [
  {
   "cell_type": "markdown",
   "metadata": {},
   "source": [
    "*ASSINGMENT 1*"
   ]
  },
  {
   "cell_type": "code",
   "execution_count": 4,
   "metadata": {},
   "outputs": [
    {
     "name": "stdout",
     "output_type": "stream",
     "text": [
      "Please enter the number: 2\n",
      "2x1=2\n",
      "2x2=4\n",
      "2x3=6\n",
      "2x4=8\n",
      "2x5=10\n",
      "2x6=12\n",
      "2x7=14\n",
      "2x8=16\n",
      "2x9=18\n",
      "2x10=20\n"
     ]
    }
   ],
   "source": [
    "#Q1 Write a function that inputs a number and prints the multiplication table of that number\n",
    "\n",
    "n=int(input(\"Please enter the number: \"))\n",
    "for i in range(1,11):\n",
    "    print(\"{}x{}={}\".format(n,i,n*i))"
   ]
  },
  {
   "cell_type": "code",
   "execution_count": 4,
   "metadata": {},
   "outputs": [
    {
     "name": "stdout",
     "output_type": "stream",
     "text": [
      "3-5 5-7 11-13 17-19 29-31 41-43 59-61 71-73 101-103 107-109 137-139 149-151 179-181 191-193 197-199 227-229 239-241 269-271 281-283 311-313 347-349 419-421 431-433 461-463 521-523 569-571 599-601 617-619 641-643 659-661 809-811 821-823 827-829 857-859 881-883 "
     ]
    }
   ],
   "source": [
    "#Q2 Write a program to print twin primes less than 1000. If two consecutive odd numbers are\n",
    "#both prime then they are known as twin primes\n",
    "l=[]\n",
    "def prime(n):\n",
    "    l=[]\n",
    "    for i in range(2,n+1):\n",
    "        flag=True\n",
    "        for j in range(2,i):\n",
    "            if i%j==0:\n",
    "                flag=False\n",
    "                break\n",
    "        if flag==True:\n",
    "            l.append(i)\n",
    "    return(l)\n",
    "\n",
    "def coprime(n):\n",
    "    for i in range(n):\n",
    "        if i in prime(n+1):\n",
    "            if i+2 in prime(n+1):\n",
    "                print(\"{}-{}\".format(i,i+2),end=\" \")\n",
    "coprime(1000)\n",
    "           \n",
    "            "
   ]
  },
  {
   "cell_type": "code",
   "execution_count": 5,
   "metadata": {},
   "outputs": [
    {
     "data": {
      "text/plain": [
       "[2, 2, 2, 7]"
      ]
     },
     "execution_count": 5,
     "metadata": {},
     "output_type": "execute_result"
    }
   ],
   "source": [
    "#Q3 . Write a program to find out the prime factors of a number. Example: prime factors of 56 - 2, 2, 2, 7\n",
    "def factors(n):\n",
    "    l=[]\n",
    "    while n>1:\n",
    "        for i in prime(n):\n",
    "            while n%i==0:\n",
    "                n=n/i\n",
    "                l.append(i)\n",
    "    return l\n",
    "factors(56)\n",
    "        "
   ]
  },
  {
   "cell_type": "code",
   "execution_count": 64,
   "metadata": {},
   "outputs": [
    {
     "name": "stdout",
     "output_type": "stream",
     "text": [
      "5\n",
      "2\n",
      "p(5,2)=20 , c(5,2)=10\n"
     ]
    }
   ],
   "source": [
    "# Q4 Write a program to implement these formulae of permutations and combinations.Number of permutations of n objects \n",
    "#taken r at a time: p(n, r) = n! / (n-r)!. Number of combinations of n objects taken r at a time is:\n",
    "#c(n, r) = n! / (r!*(n-r)!) = p(n,r) / r! \n",
    "n=int(input())\n",
    "r=int(input())\n",
    "def fact(n):\n",
    "    f=1\n",
    "    for i in range(1,n+1):\n",
    "        f*=i\n",
    "    return f\n",
    "def perm(n,r):\n",
    "    return int(fact(n)/fact(n-r))\n",
    "def comb(n,r):\n",
    "    return int(perm(n,r)/fact(r))\n",
    "print(\"p({},{})={} , c({},{})={}\".format(n,r,perm(n,r),n,r,comb(n,r)))"
   ]
  },
  {
   "cell_type": "code",
   "execution_count": 6,
   "metadata": {},
   "outputs": [
    {
     "name": "stdout",
     "output_type": "stream",
     "text": [
      "10.25\n"
     ]
    },
    {
     "data": {
      "text/plain": [
       "'1010.000000000000010'"
      ]
     },
     "execution_count": 6,
     "metadata": {},
     "output_type": "execute_result"
    }
   ],
   "source": [
    "# Q5 Write a function that converts a decimal number to binary number\n",
    "import ast\n",
    "n=ast.literal_eval(input())\n",
    "def binary(n):\n",
    "    a=int(n)\n",
    "    b=n-a\n",
    "    p=\"\"\n",
    "    q=\"\"\n",
    "    if type(n)==int:\n",
    "        while n>0:\n",
    "            p=str(n%2)+p\n",
    "            n=n//2\n",
    "        return p\n",
    "        \n",
    "    \n",
    "    else:\n",
    "        while a>0:\n",
    "            p=str(a%2)+p\n",
    "            a=a//2\n",
    "        for i in range(15):\n",
    "            q=str(int(b*2))+q\n",
    "            b=b*2-int(b*2)\n",
    "        return (p+\".\"+q)\n",
    "            \n",
    "binary(n)    \n"
   ]
  },
  {
   "cell_type": "code",
   "execution_count": 22,
   "metadata": {},
   "outputs": [
    {
     "name": "stdout",
     "output_type": "stream",
     "text": [
      "126\n",
      "0 1 153 370 371 407 \n",
      " True\n"
     ]
    }
   ],
   "source": [
    "#Write a function cubesum() that accepts an integer and returns the sum of the cubes of\n",
    "#individual digits of that number. Use this function to make functions PrintArmstrong() and\n",
    "#isArmstrong() to print Armstrong numbers and to find whether is an Armstrong number.\n",
    "\n",
    "def cubesum(x):\n",
    "    sum=0\n",
    "    for i in str(x):\n",
    "        sum+=int(i)**3\n",
    "    return sum\n",
    "print(cubesum(105))\n",
    "def isArmstrong(x):\n",
    "    if x==cubesum(x):\n",
    "        return True\n",
    "    else:\n",
    "        return False\n",
    "def PrintArmstrong(n):\n",
    "    for i in range(n):\n",
    "        if isArmstrong(i):\n",
    "            print(i, end=\" \")\n",
    "PrintArmstrong(1000)\n",
    "print(\"\\n\",isArmstrong(1))  \n",
    "\n"
   ]
  },
  {
   "cell_type": "code",
   "execution_count": 45,
   "metadata": {},
   "outputs": [
    {
     "data": {
      "text/plain": [
       "48"
      ]
     },
     "execution_count": 45,
     "metadata": {},
     "output_type": "execute_result"
    }
   ],
   "source": [
    "#Q7 Write a function prodDigits() that inputs a number and returns the product of digits of that number.\n",
    "def prodDigits(n):\n",
    "    p=1\n",
    "    for i in str(n):\n",
    "        p*=int(i)\n",
    "    return p\n",
    "prodDigits(86)\n",
    "    "
   ]
  },
  {
   "cell_type": "code",
   "execution_count": 75,
   "metadata": {},
   "outputs": [
    {
     "name": "stdout",
     "output_type": "stream",
     "text": [
      "MDR= 6, MPersistence=3\n",
      "6\n",
      "3\n"
     ]
    }
   ],
   "source": [
    "#Q8 MDR MPersistence\n",
    "n=86\n",
    "j=0\n",
    "while len(str(n))!=1:\n",
    "    n=prodDigits(n)\n",
    "    j+=1\n",
    "print(\"MDR= {}, MPersistence={}\".format(n,j))\n",
    "\n",
    "def MDR(n): \n",
    "    while len(str(n))!=1:\n",
    "        n=prodDigits(n)\n",
    "    return n\n",
    "def MPersistence(n):\n",
    "    j=0\n",
    "    while len(str(n))!=1:\n",
    "        n=prodDigits(n)\n",
    "        j+=1\n",
    "    return j\n",
    "print(MDR(86))\n",
    "print(MPersistence(86))\n",
    "\n",
    "    \n",
    "    \n",
    "    \n",
    "\n"
   ]
  },
  {
   "cell_type": "code",
   "execution_count": 56,
   "metadata": {},
   "outputs": [
    {
     "data": {
      "text/plain": [
       "55"
      ]
     },
     "execution_count": 56,
     "metadata": {},
     "output_type": "execute_result"
    }
   ],
   "source": [
    "#Q9 Sum of Proper Divisors\n",
    "def sumpdivisors(n):\n",
    "    s=0\n",
    "    for i in range(1,n-1):\n",
    "        if(n%i)==0:\n",
    "           s+=i\n",
    "    return s\n",
    "sumpdivisors(36)"
   ]
  },
  {
   "cell_type": "code",
   "execution_count": 80,
   "metadata": {},
   "outputs": [
    {
     "name": "stdout",
     "output_type": "stream",
     "text": [
      "Perfect Number\n"
     ]
    }
   ],
   "source": [
    "#Q10 Perfect\n",
    "def perfect(n):\n",
    "    if sumpdivisors(n)==n:\n",
    "        print(\"Perfect Number\")\n",
    "    else:\n",
    "        print(\"Not a Perfect Number\")\n",
    "perfect(28)"
   ]
  },
  {
   "cell_type": "code",
   "execution_count": 89,
   "metadata": {},
   "outputs": [
    {
     "name": "stdout",
     "output_type": "stream",
     "text": [
      "220 284\n",
      "1184 1210\n"
     ]
    }
   ],
   "source": [
    "#Q11 Amicable numbers\n",
    "def isAmicable(a,b):\n",
    "    if sumpdivisors(a)==b and sumpdivisors(b)==a:\n",
    "        return True\n",
    "    else:\n",
    "        return False\n",
    "def amicable(n):\n",
    "    for i in range(n):\n",
    "        for j in range(i+1,n):\n",
    "            if isAmicable(i,j):\n",
    "                print(i,j)\n",
    "amicable(1500)\n",
    "\n",
    "        "
   ]
  },
  {
   "cell_type": "code",
   "execution_count": 94,
   "metadata": {},
   "outputs": [
    {
     "name": "stdout",
     "output_type": "stream",
     "text": [
      "[1,2,3,4,5,6,7,8,9,10]\n",
      "[1, 3, 5, 7, 9]\n"
     ]
    }
   ],
   "source": [
    "#Q12 Filter odd numbers\n",
    "import ast\n",
    "l=ast.literal_eval(input())\n",
    "x=filter(lambda x:x%2!=0,l)\n",
    "print(list(x))"
   ]
  },
  {
   "cell_type": "code",
   "execution_count": 95,
   "metadata": {},
   "outputs": [
    {
     "name": "stdout",
     "output_type": "stream",
     "text": [
      "[1,2,3,4,5,6,7,8,9,10]\n",
      "[1, 8, 27, 64, 125, 216, 343, 512, 729, 1000]\n"
     ]
    }
   ],
   "source": [
    "#Q13 Write a program which can map() to make a list whose elements are cube of elements in a given list\n",
    "import ast\n",
    "l=ast.literal_eval(input())\n",
    "x=map(lambda x:x**3,l)\n",
    "print(list(x))\n",
    "\n"
   ]
  },
  {
   "cell_type": "code",
   "execution_count": 97,
   "metadata": {},
   "outputs": [
    {
     "name": "stdout",
     "output_type": "stream",
     "text": [
      "[1,2,3,4,5,6,7,8,9,10]\n",
      "[8, 64, 216, 512, 1000]\n"
     ]
    }
   ],
   "source": [
    "#Q14 Write a program which can map() and filter() to make a list whose elements are cube of even number in a given list\n",
    "import ast\n",
    "l=ast.literal_eval(input())\n",
    "x=map(lambda x:x**3,list(filter(lambda x:x%2==0,l)))\n",
    "print(list(x))"
   ]
  }
 ],
 "metadata": {
  "kernelspec": {
   "display_name": "Python 3",
   "language": "python",
   "name": "python3"
  },
  "language_info": {
   "codemirror_mode": {
    "name": "ipython",
    "version": 3
   },
   "file_extension": ".py",
   "mimetype": "text/x-python",
   "name": "python",
   "nbconvert_exporter": "python",
   "pygments_lexer": "ipython3",
   "version": "3.8.3"
  }
 },
 "nbformat": 4,
 "nbformat_minor": 4
}
